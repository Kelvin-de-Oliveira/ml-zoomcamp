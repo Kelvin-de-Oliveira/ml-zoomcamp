{
 "cells": [
  {
   "cell_type": "code",
   "execution_count": 1,
   "id": "6e7f62a8-6bec-42e1-b113-20b8ffa268b3",
   "metadata": {},
   "outputs": [
    {
     "data": {
      "text/plain": [
       "array([0, 1, 2, 3, 4, 5, 6, 7, 8, 9])"
      ]
     },
     "execution_count": 1,
     "metadata": {},
     "output_type": "execute_result"
    }
   ],
   "source": [
    "import numpy as np\n",
    "np.arange(10)"
   ]
  },
  {
   "cell_type": "markdown",
   "id": "68a7a39e-ed8f-4b15-a76a-6de697bf37b1",
   "metadata": {},
   "source": [
    "## Vectors operations"
   ]
  },
  {
   "cell_type": "code",
   "execution_count": 5,
   "id": "9e0399b9-7892-4854-bb3b-4ece26d0463b",
   "metadata": {},
   "outputs": [
    {
     "data": {
      "text/plain": [
       "array([ 4,  8, 10, 12])"
      ]
     },
     "execution_count": 5,
     "metadata": {},
     "output_type": "execute_result"
    }
   ],
   "source": [
    "u = np.array([2,4,5,6])\n",
    "2 * u "
   ]
  },
  {
   "cell_type": "code",
   "execution_count": 6,
   "id": "5360d1d2-ed35-4d23-adea-85a3e116193c",
   "metadata": {},
   "outputs": [
    {
     "data": {
      "text/plain": [
       "array([3, 4, 5, 8])"
      ]
     },
     "execution_count": 6,
     "metadata": {},
     "output_type": "execute_result"
    }
   ],
   "source": [
    "v = np.array([1,0,0,2])\n",
    "u + v"
   ]
  },
  {
   "cell_type": "markdown",
   "id": "2d504a92-4cc4-4bc6-9251-984de1bc2611",
   "metadata": {},
   "source": [
    "## Multiplication"
   ]
  },
  {
   "cell_type": "markdown",
   "id": "09effd50-6a63-46e8-92c0-aafa4b21999b",
   "metadata": {},
   "source": [
    "### vector vector multiplication"
   ]
  },
  {
   "cell_type": "code",
   "execution_count": 15,
   "id": "21b257e8-99de-4205-967b-0cd4b6569c11",
   "metadata": {},
   "outputs": [],
   "source": [
    "def vector_vector_multiplication(u,v):\n",
    "    assert u.shape[0] == v.shape[0]\n",
    "    n = u.shape[0]\n",
    "    result = 0.0\n",
    "    for i in range(n):\n",
    "        result = result + u[i] * v[i]\n",
    "    return float(result)"
   ]
  },
  {
   "cell_type": "code",
   "execution_count": 16,
   "id": "54d5e020-16a1-4d7f-b521-964b7e790f8e",
   "metadata": {},
   "outputs": [
    {
     "data": {
      "text/plain": [
       "14.0"
      ]
     },
     "execution_count": 16,
     "metadata": {},
     "output_type": "execute_result"
    }
   ],
   "source": [
    "vector_vector_multiplication(u,v)"
   ]
  },
  {
   "cell_type": "code",
   "execution_count": 20,
   "id": "abb33934-1feb-45f4-832d-51a944edf460",
   "metadata": {},
   "outputs": [
    {
     "data": {
      "text/plain": [
       "14.0"
      ]
     },
     "execution_count": 20,
     "metadata": {},
     "output_type": "execute_result"
    }
   ],
   "source": [
    "float (u.dot(v))"
   ]
  },
  {
   "cell_type": "markdown",
   "id": "31015ba4-5820-4bc1-8062-37060b31eb17",
   "metadata": {},
   "source": [
    "### Matrix-vector multiplication"
   ]
  },
  {
   "cell_type": "code",
   "execution_count": 22,
   "id": "3bb33a21-ff06-4231-b189-b82d69926313",
   "metadata": {},
   "outputs": [],
   "source": [
    "U = np.array([[2,4,5,6], \n",
    "              [1,2,1,2], \n",
    "              [3,1,2,1],\n",
    "             ])"
   ]
  },
  {
   "cell_type": "code",
   "execution_count": 23,
   "id": "61f9c803-b13f-4f88-b698-a9eb1934fd37",
   "metadata": {},
   "outputs": [
    {
     "data": {
      "text/plain": [
       "array([[2, 4, 5, 6],\n",
       "       [1, 2, 1, 2],\n",
       "       [3, 1, 2, 1]])"
      ]
     },
     "execution_count": 23,
     "metadata": {},
     "output_type": "execute_result"
    }
   ],
   "source": [
    "U"
   ]
  },
  {
   "cell_type": "code",
   "execution_count": 26,
   "id": "73a4c09d-0c2d-43c2-b6d1-ea2c1eeb1309",
   "metadata": {},
   "outputs": [],
   "source": [
    "def matrix_vector_multiplication(U, v):\n",
    "    assert U.shape[1] == v.shape[0]\n",
    "\n",
    "    num_rows = U.shape[0]\n",
    "\n",
    "    result = np.zeros(num_rows)\n",
    "\n",
    "    for i in range(num_rows):\n",
    "        result[i] = vector_vector_multiplication(U[i], v)\n",
    "    return (result)"
   ]
  },
  {
   "cell_type": "code",
   "execution_count": 27,
   "id": "c5a622b2-fbfc-4476-b31a-e687eafc78ca",
   "metadata": {},
   "outputs": [
    {
     "data": {
      "text/plain": [
       "array([14.,  5.,  5.])"
      ]
     },
     "execution_count": 27,
     "metadata": {},
     "output_type": "execute_result"
    }
   ],
   "source": [
    "matrix_vector_multiplication(U,v)"
   ]
  },
  {
   "cell_type": "code",
   "execution_count": 28,
   "id": "92857a85-6484-4ce1-be4e-ec0b1d266806",
   "metadata": {},
   "outputs": [
    {
     "data": {
      "text/plain": [
       "array([14,  5,  5])"
      ]
     },
     "execution_count": 28,
     "metadata": {},
     "output_type": "execute_result"
    }
   ],
   "source": [
    "U.dot(v)"
   ]
  },
  {
   "cell_type": "markdown",
   "id": "010d5040-18c1-4e57-a7fc-538afe91b5b1",
   "metadata": {},
   "source": [
    "### Matrix-matrix multiplication"
   ]
  },
  {
   "cell_type": "code",
   "execution_count": 29,
   "id": "5e359fdc-ff25-40b7-85e2-2a8f3f9a06f9",
   "metadata": {},
   "outputs": [],
   "source": [
    "V = np.array([[1,1,2], \n",
    "              [0,0.5,1],\n",
    "              [0,2,1],\n",
    "              [2,1,0],\n",
    "             ])"
   ]
  },
  {
   "cell_type": "code",
   "execution_count": 37,
   "id": "bfa731cb-840f-4980-aff6-4bdfe0082318",
   "metadata": {},
   "outputs": [],
   "source": [
    "def matrix_matrix_multiplication(U, V):\n",
    "    assert U.shape[1] == V.shape[0]\n",
    "    \n",
    "    num_rows = U.shape[0]\n",
    "    num_cols = V.shape[1]\n",
    "\n",
    "    result = np.zeros((num_rows, num_cols))\n",
    "\n",
    "    for i in range(num_cols):\n",
    "        vi = V[:, i]\n",
    "        Uvi = matrix_vector_multiplication(U, vi)\n",
    "        result[:, i] = Uvi\n",
    "    return result\n",
    "        "
   ]
  },
  {
   "cell_type": "code",
   "execution_count": 38,
   "id": "a4fbc058-3bc7-40cf-af6e-48ccad14af45",
   "metadata": {},
   "outputs": [
    {
     "data": {
      "text/plain": [
       "array([[14. , 20. , 13. ],\n",
       "       [ 5. ,  6. ,  5. ],\n",
       "       [ 5. ,  8.5,  9. ]])"
      ]
     },
     "execution_count": 38,
     "metadata": {},
     "output_type": "execute_result"
    }
   ],
   "source": [
    "matrix_matrix_multiplication(U,V)"
   ]
  },
  {
   "cell_type": "code",
   "execution_count": 39,
   "id": "083f8c0b-9db9-4056-a2b2-3d89f4d7e4fb",
   "metadata": {},
   "outputs": [
    {
     "data": {
      "text/plain": [
       "array([[14. , 20. , 13. ],\n",
       "       [ 5. ,  6. ,  5. ],\n",
       "       [ 5. ,  8.5,  9. ]])"
      ]
     },
     "execution_count": 39,
     "metadata": {},
     "output_type": "execute_result"
    }
   ],
   "source": [
    "U.dot(V)"
   ]
  },
  {
   "cell_type": "markdown",
   "id": "41e6cbfa-43a6-47a4-ae5f-419c70f8eac5",
   "metadata": {},
   "source": [
    "## Identity  Matrix"
   ]
  },
  {
   "cell_type": "code",
   "execution_count": 42,
   "id": "45628a68-2e16-4cfb-a16b-c2c8cfc6646e",
   "metadata": {},
   "outputs": [],
   "source": [
    "I = np.eye(3)"
   ]
  },
  {
   "cell_type": "code",
   "execution_count": 44,
   "id": "2eeeaebb-5dbc-4a48-a668-68c79f49e030",
   "metadata": {},
   "outputs": [
    {
     "data": {
      "text/plain": [
       "array([[1. , 1. , 2. ],\n",
       "       [0. , 0.5, 1. ],\n",
       "       [0. , 2. , 1. ],\n",
       "       [2. , 1. , 0. ]])"
      ]
     },
     "execution_count": 44,
     "metadata": {},
     "output_type": "execute_result"
    }
   ],
   "source": [
    "V"
   ]
  },
  {
   "cell_type": "code",
   "execution_count": 43,
   "id": "88a8671e-d12e-4109-b17b-2bf798c22a5e",
   "metadata": {},
   "outputs": [
    {
     "data": {
      "text/plain": [
       "array([[1. , 1. , 2. ],\n",
       "       [0. , 0.5, 1. ],\n",
       "       [0. , 2. , 1. ],\n",
       "       [2. , 1. , 0. ]])"
      ]
     },
     "execution_count": 43,
     "metadata": {},
     "output_type": "execute_result"
    }
   ],
   "source": [
    "V.dot(I)"
   ]
  },
  {
   "cell_type": "markdown",
   "id": "662103b9-0be8-4d69-85d6-b255bbec460b",
   "metadata": {},
   "source": [
    "## Matrix inverse"
   ]
  },
  {
   "cell_type": "code",
   "execution_count": 50,
   "id": "ac741e5e-bb4d-44f0-aecc-e79627226ad7",
   "metadata": {},
   "outputs": [],
   "source": [
    "Vs = V[[0,1,2]]"
   ]
  },
  {
   "cell_type": "code",
   "execution_count": 51,
   "id": "a829ea08-9c48-44d5-89fb-2ed888897479",
   "metadata": {},
   "outputs": [
    {
     "data": {
      "text/plain": [
       "array([[ 1.        , -2.        ,  0.        ],\n",
       "       [ 0.        , -0.66666667,  0.66666667],\n",
       "       [ 0.        ,  1.33333333, -0.33333333]])"
      ]
     },
     "execution_count": 51,
     "metadata": {},
     "output_type": "execute_result"
    }
   ],
   "source": [
    "Vs_inv = np.linalg.inv(Vs)\n",
    "Vs_inv"
   ]
  },
  {
   "cell_type": "code",
   "execution_count": 53,
   "id": "91d53982-19b4-43bc-9a93-913f52abd3d5",
   "metadata": {},
   "outputs": [
    {
     "data": {
      "text/plain": [
       "array([[1., 0., 0.],\n",
       "       [0., 1., 0.],\n",
       "       [0., 0., 1.]])"
      ]
     },
     "execution_count": 53,
     "metadata": {},
     "output_type": "execute_result"
    }
   ],
   "source": [
    "Vs_inv.dot(Vs)"
   ]
  }
 ],
 "metadata": {
  "kernelspec": {
   "display_name": "Python 3 (ipykernel)",
   "language": "python",
   "name": "python3"
  },
  "language_info": {
   "codemirror_mode": {
    "name": "ipython",
    "version": 3
   },
   "file_extension": ".py",
   "mimetype": "text/x-python",
   "name": "python",
   "nbconvert_exporter": "python",
   "pygments_lexer": "ipython3",
   "version": "3.13.7"
  }
 },
 "nbformat": 4,
 "nbformat_minor": 5
}
