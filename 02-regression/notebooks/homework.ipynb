{
 "cells": [
  {
   "cell_type": "markdown",
   "id": "c1728e73-79ce-4217-9ae6-888d7897e760",
   "metadata": {},
   "source": [
    "##  Homework - Module 1\n",
    "Solutions for the second ML Zoomcamp homework, a course offered by the DataTalkClub team.\n"
   ]
  },
  {
   "cell_type": "markdown",
   "id": "5926e8d1-59cb-4dbf-8f98-b040ce12c8e0",
   "metadata": {},
   "source": [
    "### Getting the data"
   ]
  },
  {
   "cell_type": "code",
   "execution_count": 1,
   "id": "1d7f2560-c5b6-4b24-9f5c-c392a610f2f9",
   "metadata": {},
   "outputs": [],
   "source": [
    "import pandas as pd\n",
    "import numpy as np\n"
   ]
  },
  {
   "cell_type": "code",
   "execution_count": 2,
   "id": "d1c1cedd-0744-41eb-9a28-ab66a35c9c22",
   "metadata": {},
   "outputs": [
    {
     "name": "stderr",
     "output_type": "stream",
     "text": [
      "--2025-10-07 19:28:49--  https://raw.githubusercontent.com/alexeygrigorev/datasets/master/car_fuel_efficiency.csv\n",
      "Resolving raw.githubusercontent.com (raw.githubusercontent.com)... 2606:50c0:8003::154, 2606:50c0:8000::154, 2606:50c0:8001::154, ...\n",
      "Connecting to raw.githubusercontent.com (raw.githubusercontent.com)|2606:50c0:8003::154|:443... connected.\n",
      "HTTP request sent, awaiting response... 200 OK\n",
      "Length: 874188 (854K) [text/plain]\n",
      "Saving to: '../data/car_fuel_efficiency.csv.3'\n",
      "\n",
      "     0K .......... .......... .......... .......... ..........  5% 1,75M 0s\n",
      "    50K .......... .......... .......... .......... .......... 11% 22,9M 0s\n",
      "   100K .......... .......... .......... .......... .......... 17% 20,6M 0s\n",
      "   150K .......... .......... .......... .......... .......... 23% 19,5M 0s\n",
      "   200K .......... .......... .......... .......... .......... 29% 3,51M 0s\n",
      "   250K .......... .......... .......... .......... .......... 35% 7,77M 0s\n",
      "   300K .......... .......... .......... .......... .......... 40% 1,10M 0s\n",
      "   350K .......... .......... .......... .......... .......... 46% 12,6M 0s\n",
      "   400K .......... .......... .......... .......... .......... 52% 8,96M 0s\n",
      "   450K .......... .......... .......... .......... .......... 58% 7,40M 0s\n",
      "   500K .......... .......... .......... .......... .......... 64% 5,34M 0s\n",
      "   550K .......... .......... .......... .......... .......... 70% 4,68M 0s\n",
      "   600K .......... .......... .......... .......... .......... 76% 2,51M 0s\n",
      "   650K .......... .......... .......... .......... .......... 81% 11,5M 0s\n",
      "   700K .......... .......... .......... .......... .......... 87% 5,88M 0s\n",
      "   750K .......... .......... .......... .......... .......... 93% 20,6M 0s\n",
      "   800K .......... .......... .......... .......... .......... 99% 7,60M 0s\n",
      "   850K ...                                                   100% 70,6G=0,2s\n",
      "\n",
      "2025-10-07 19:28:51 (4,75 MB/s) - '../data/car_fuel_efficiency.csv.3' saved [874188/874188]\n",
      "\n"
     ]
    }
   ],
   "source": [
    "data = 'https://raw.githubusercontent.com/alexeygrigorev/datasets/master/car_fuel_efficiency.csv'\n",
    "!wget  -P ../data $data"
   ]
  },
  {
   "cell_type": "code",
   "execution_count": 3,
   "id": "25ba859d-3c7c-4243-9e98-69a4679bfcbb",
   "metadata": {},
   "outputs": [
    {
     "data": {
      "text/html": [
       "<div>\n",
       "<style scoped>\n",
       "    .dataframe tbody tr th:only-of-type {\n",
       "        vertical-align: middle;\n",
       "    }\n",
       "\n",
       "    .dataframe tbody tr th {\n",
       "        vertical-align: top;\n",
       "    }\n",
       "\n",
       "    .dataframe thead th {\n",
       "        text-align: right;\n",
       "    }\n",
       "</style>\n",
       "<table border=\"1\" class=\"dataframe\">\n",
       "  <thead>\n",
       "    <tr style=\"text-align: right;\">\n",
       "      <th></th>\n",
       "      <th>engine_displacement</th>\n",
       "      <th>num_cylinders</th>\n",
       "      <th>horsepower</th>\n",
       "      <th>vehicle_weight</th>\n",
       "      <th>acceleration</th>\n",
       "      <th>model_year</th>\n",
       "      <th>origin</th>\n",
       "      <th>fuel_type</th>\n",
       "      <th>drivetrain</th>\n",
       "      <th>num_doors</th>\n",
       "      <th>fuel_efficiency_mpg</th>\n",
       "    </tr>\n",
       "  </thead>\n",
       "  <tbody>\n",
       "    <tr>\n",
       "      <th>0</th>\n",
       "      <td>170</td>\n",
       "      <td>3.0</td>\n",
       "      <td>159.0</td>\n",
       "      <td>3413.433759</td>\n",
       "      <td>17.7</td>\n",
       "      <td>2003</td>\n",
       "      <td>Europe</td>\n",
       "      <td>Gasoline</td>\n",
       "      <td>All-wheel drive</td>\n",
       "      <td>0.0</td>\n",
       "      <td>13.231729</td>\n",
       "    </tr>\n",
       "    <tr>\n",
       "      <th>1</th>\n",
       "      <td>130</td>\n",
       "      <td>5.0</td>\n",
       "      <td>97.0</td>\n",
       "      <td>3149.664934</td>\n",
       "      <td>17.8</td>\n",
       "      <td>2007</td>\n",
       "      <td>USA</td>\n",
       "      <td>Gasoline</td>\n",
       "      <td>Front-wheel drive</td>\n",
       "      <td>0.0</td>\n",
       "      <td>13.688217</td>\n",
       "    </tr>\n",
       "    <tr>\n",
       "      <th>2</th>\n",
       "      <td>170</td>\n",
       "      <td>NaN</td>\n",
       "      <td>78.0</td>\n",
       "      <td>3079.038997</td>\n",
       "      <td>15.1</td>\n",
       "      <td>2018</td>\n",
       "      <td>Europe</td>\n",
       "      <td>Gasoline</td>\n",
       "      <td>Front-wheel drive</td>\n",
       "      <td>0.0</td>\n",
       "      <td>14.246341</td>\n",
       "    </tr>\n",
       "    <tr>\n",
       "      <th>3</th>\n",
       "      <td>220</td>\n",
       "      <td>4.0</td>\n",
       "      <td>NaN</td>\n",
       "      <td>2542.392402</td>\n",
       "      <td>20.2</td>\n",
       "      <td>2009</td>\n",
       "      <td>USA</td>\n",
       "      <td>Diesel</td>\n",
       "      <td>All-wheel drive</td>\n",
       "      <td>2.0</td>\n",
       "      <td>16.912736</td>\n",
       "    </tr>\n",
       "    <tr>\n",
       "      <th>4</th>\n",
       "      <td>210</td>\n",
       "      <td>1.0</td>\n",
       "      <td>140.0</td>\n",
       "      <td>3460.870990</td>\n",
       "      <td>14.4</td>\n",
       "      <td>2009</td>\n",
       "      <td>Europe</td>\n",
       "      <td>Gasoline</td>\n",
       "      <td>All-wheel drive</td>\n",
       "      <td>2.0</td>\n",
       "      <td>12.488369</td>\n",
       "    </tr>\n",
       "  </tbody>\n",
       "</table>\n",
       "</div>"
      ],
      "text/plain": [
       "   engine_displacement  num_cylinders  horsepower  vehicle_weight  \\\n",
       "0                  170            3.0       159.0     3413.433759   \n",
       "1                  130            5.0        97.0     3149.664934   \n",
       "2                  170            NaN        78.0     3079.038997   \n",
       "3                  220            4.0         NaN     2542.392402   \n",
       "4                  210            1.0       140.0     3460.870990   \n",
       "\n",
       "   acceleration  model_year  origin fuel_type         drivetrain  num_doors  \\\n",
       "0          17.7        2003  Europe  Gasoline    All-wheel drive        0.0   \n",
       "1          17.8        2007     USA  Gasoline  Front-wheel drive        0.0   \n",
       "2          15.1        2018  Europe  Gasoline  Front-wheel drive        0.0   \n",
       "3          20.2        2009     USA    Diesel    All-wheel drive        2.0   \n",
       "4          14.4        2009  Europe  Gasoline    All-wheel drive        2.0   \n",
       "\n",
       "   fuel_efficiency_mpg  \n",
       "0            13.231729  \n",
       "1            13.688217  \n",
       "2            14.246341  \n",
       "3            16.912736  \n",
       "4            12.488369  "
      ]
     },
     "execution_count": 3,
     "metadata": {},
     "output_type": "execute_result"
    }
   ],
   "source": [
    "df = pd.read_csv('../data/car_fuel_efficiency.csv')\n",
    "df.head()"
   ]
  },
  {
   "cell_type": "markdown",
   "id": "14345c2d-bb25-4d27-a285-72ae0aae0163",
   "metadata": {},
   "source": [
    "### Preparing the dataset\n",
    "Use only the following columns:\n",
    "\n",
    "* `'engine_displacement'`\n",
    "* `'horsepower'`\n",
    "* `'vehicle_weight'`\n",
    "* `'model_year'`"
   ]
  },
  {
   "cell_type": "code",
   "execution_count": 4,
   "id": "a0b07139-b4de-4e2d-b97e-e60de677a840",
   "metadata": {},
   "outputs": [],
   "source": [
    "df_subset = df[['engine_displacement',\n",
    "                    'horsepower',\n",
    "                    'vehicle_weight',\n",
    "                    'model_year',\n",
    "                    'fuel_efficiency_mpg']].copy()"
   ]
  },
  {
   "cell_type": "markdown",
   "id": "e5ed4a17-84c0-4f41-8c63-fcc1a7a984d8",
   "metadata": {},
   "source": [
    "### EDA\n",
    "Look at the fuel_efficiency_mpg variable. Does it have a long tail?"
   ]
  },
  {
   "cell_type": "code",
   "execution_count": 5,
   "id": "aedbd403-92f8-431b-8a29-f99eab44c502",
   "metadata": {},
   "outputs": [],
   "source": [
    "import matplotlib.pyplot as plt\n",
    "import seaborn as sns\n",
    "%matplotlib inline"
   ]
  },
  {
   "cell_type": "code",
   "execution_count": 6,
   "id": "237d6a62-b379-4df4-88f2-f97850c71d33",
   "metadata": {},
   "outputs": [
    {
     "data": {
      "text/plain": [
       "<Axes: xlabel='fuel_efficiency_mpg', ylabel='Count'>"
      ]
     },
     "execution_count": 6,
     "metadata": {},
     "output_type": "execute_result"
    },
    {
     "data": {
      "image/png": "[encoded data removed]",
      "text/plain": [
       "<Figure size 640x480 with 1 Axes>"
      ]
     },
     "metadata": {},
     "output_type": "display_data"
    }
   ],
   "source": [
    "sns.histplot(df_subset.fuel_efficiency_mpg, bins=50)"
   ]
  },
  {
   "cell_type": "markdown",
   "id": "9cf7e95b-dc5f-4504-b45d-8e4fc04fa7f1",
   "metadata": {},
   "source": [
    "#### answer: \n",
    "No the fuel efficieny mpg colum seems to hve a normal distribuition"
   ]
  },
  {
   "cell_type": "markdown",
   "id": "e07f9165-c9b0-463d-abfc-0997ef9002ed",
   "metadata": {},
   "source": [
    "### Question 1\n",
    "There's one column with missing values. What is it?"
   ]
  },
  {
   "cell_type": "code",
   "execution_count": 7,
   "id": "e53ff400-20ff-4a21-9f24-0b5f2194e282",
   "metadata": {},
   "outputs": [
    {
     "data": {
      "text/plain": [
       "engine_displacement      0\n",
       "horsepower             708\n",
       "vehicle_weight           0\n",
       "model_year               0\n",
       "fuel_efficiency_mpg      0\n",
       "dtype: int64"
      ]
     },
     "execution_count": 7,
     "metadata": {},
     "output_type": "execute_result"
    }
   ],
   "source": [
    "df_subset.isnull().sum()"
   ]
  },
  {
   "cell_type": "markdown",
   "id": "38eb19e8-5a55-4182-af39-9dbe8529135c",
   "metadata": {},
   "source": [
    "#### answer: \n",
    "`'horsepower'`"
   ]
  },
  {
   "cell_type": "markdown",
   "id": "0ab94a86-766d-4323-a539-2e69e809d01a",
   "metadata": {},
   "source": [
    "### Question 2\n",
    "What's the median (50% percentile) for variable `'horsepower'`?"
   ]
  },
  {
   "cell_type": "code",
   "execution_count": 8,
   "id": "9264526f-11b8-439e-b305-711a24206bea",
   "metadata": {},
   "outputs": [
    {
     "data": {
      "text/plain": [
       "np.float64(149.0)"
      ]
     },
     "execution_count": 8,
     "metadata": {},
     "output_type": "execute_result"
    }
   ],
   "source": [
    "median_hs = df_subset['horsepower'].median()\n",
    "median_hs"
   ]
  },
  {
   "cell_type": "markdown",
   "id": "f30bde8a-4d9d-4f0e-a588-9b8f7f68556d",
   "metadata": {},
   "source": [
    "#### answer: \n",
    "149"
   ]
  },
  {
   "cell_type": "markdown",
   "id": "6f292e64-4cad-4952-b389-23e8b900a070",
   "metadata": {},
   "source": [
    "### Prepare and split the dataset\n",
    "* Shuffle the dataset (the filtered one you created above), use seed `42`.\n",
    "* Split your data in train/val/test sets, with 60%/20%/20% distribution.\n",
    "\n",
    "Use the same code as in the lectures"
   ]
  },
  {
   "cell_type": "markdown",
   "id": "20187224-82df-4f8b-8f78-303e4e864cf4",
   "metadata": {},
   "source": [
    "#### Calculating the subset length:"
   ]
  },
  {
   "cell_type": "code",
   "execution_count": 9,
   "id": "544ea955-a9c5-4548-bea7-6f0508893a32",
   "metadata": {},
   "outputs": [
    {
     "data": {
      "text/plain": [
       "(9704, 1940, 1940, 5824)"
      ]
     },
     "execution_count": 9,
     "metadata": {},
     "output_type": "execute_result"
    }
   ],
   "source": [
    "n = len(df_subset)\n",
    "n_val = int(len(df_subset) * 0.2)\n",
    "n_test = int(len(df_subset) * 0.2)\n",
    "n_train = n - n_val - n_test\n",
    "\n",
    "n, n_val, n_test, n_train"
   ]
  },
  {
   "cell_type": "markdown",
   "id": "c493c36d-8a2a-44d6-8184-83c9da2791b5",
   "metadata": {},
   "source": [
    "#### shuffle the indices to create evenly distributed subsets"
   ]
  },
  {
   "cell_type": "code",
   "execution_count": 10,
   "id": "7c8b09e7-002f-4ee0-844b-bd656afc4885",
   "metadata": {},
   "outputs": [],
   "source": [
    "idx = np.arange(n)\n",
    "np.random.seed(42)\n",
    "np.random.shuffle(idx)"
   ]
  },
  {
   "cell_type": "code",
   "execution_count": 11,
   "id": "84c1a032-4dd7-4739-8caf-0cf652b93387",
   "metadata": {},
   "outputs": [],
   "source": [
    "df_train = df_subset.iloc[idx[:n_train]].copy()\n",
    "df_val = df_subset.iloc[idx[n_train:n_train + n_val]].copy()\n",
    "df_test = df_subset.iloc[idx[n_train + n_val:]].copy()"
   ]
  },
  {
   "cell_type": "markdown",
   "id": "7e6aa0f9-eebf-48eb-a499-5d9a547ee60f",
   "metadata": {},
   "source": [
    "#### Length validation"
   ]
  },
  {
   "cell_type": "code",
   "execution_count": 12,
   "id": "7ced0ae3-6ba3-4730-9619-51ff88a2ec30",
   "metadata": {},
   "outputs": [
    {
     "data": {
      "text/plain": [
       "(5824, 1940, 1940)"
      ]
     },
     "execution_count": 12,
     "metadata": {},
     "output_type": "execute_result"
    }
   ],
   "source": [
    "len(df_train), len(df_val), len(df_test)"
   ]
  },
  {
   "cell_type": "markdown",
   "id": "8594f083-0bd4-4ad7-8eec-dc531b88a8b3",
   "metadata": {},
   "source": [
    "#### resetting de subsets indices:"
   ]
  },
  {
   "cell_type": "code",
   "execution_count": 13,
   "id": "2f2bb820-0ed4-452b-9c4d-c23d17690e2d",
   "metadata": {},
   "outputs": [],
   "source": [
    "df_train = df_train.reset_index(drop=True)\n",
    "df_val = df_val.reset_index(drop=True)\n",
    "df_test = df_test.reset_index(drop=True)"
   ]
  },
  {
   "cell_type": "markdown",
   "id": "68ae88db-85c1-4fd1-bc29-23bb450c08e2",
   "metadata": {},
   "source": [
    "#### getting the target variables (y):"
   ]
  },
  {
   "cell_type": "code",
   "execution_count": 14,
   "id": "a7f508ef-7df8-4755-852a-ee93628c3690",
   "metadata": {},
   "outputs": [],
   "source": [
    "y_train = df_train.fuel_efficiency_mpg.values\n",
    "y_val = df_val.fuel_efficiency_mpg.values\n",
    "y_test = df_test.fuel_efficiency_mpg.values"
   ]
  },
  {
   "cell_type": "code",
   "execution_count": 15,
   "id": "c11aaece-bbee-4d25-bbd6-cb349446af82",
   "metadata": {},
   "outputs": [],
   "source": [
    "del df_train['fuel_efficiency_mpg']\n",
    "del df_val['fuel_efficiency_mpg']\n",
    "del df_test['fuel_efficiency_mpg']"
   ]
  },
  {
   "cell_type": "markdown",
   "id": "be8cab83-a4c7-42b9-bef1-1d1ea692bfa3",
   "metadata": {},
   "source": [
    "### Question 3\n",
    "\n",
    "* We need to deal with missing values for the column from Q1.\n",
    "* We have two options: fill it with 0 or with the mean of this variable.\n",
    "* Try both options. For each, train a linear regression model without regularization using the code from the lessons.\n",
    "* For computing the mean, use the training only!\n",
    "* Use the validation dataset to evaluate the models and compare the RMSE of each option.\n",
    "* Round the RMSE scores to 2 decimal digits using `round(score, 2)`\n",
    "* Which option gives better RMSE?\n",
    "}\n",
    "Options:\n",
    "\n",
    "- With 0\n",
    "- With mean\n",
    "- Both are equally good"
   ]
  },
  {
   "cell_type": "code",
   "execution_count": 16,
   "id": "1525407e-0c5a-4d67-847b-78481fa9bc6f",
   "metadata": {},
   "outputs": [],
   "source": [
    "def prepare_with_zero(df):\n",
    "    df_num = df.fillna(0)\n",
    "    X =  df_num.values\n",
    "    return X"
   ]
  },
  {
   "cell_type": "code",
   "execution_count": 17,
   "id": "991fc4f7-a6b2-4711-b448-30abb81d5509",
   "metadata": {},
   "outputs": [],
   "source": [
    "def prepare_with_mean(df):\n",
    "    df_num = df.fillna({'horsepower': df_train['horsepower'].mean()})\n",
    "    X =  df_num.values\n",
    "    return X"
   ]
  },
  {
   "cell_type": "code",
   "execution_count": 18,
   "id": "738a9a20-543b-4e87-83ad-d671d89dadff",
   "metadata": {},
   "outputs": [],
   "source": [
    " def train_linear_regression(X, y):\n",
    "     ones = np.ones(X.shape[0])\n",
    "     X = np.column_stack([ones, X])\n",
    "\n",
    "     XTX = X.T.dot(X)\n",
    "     XTX_inv = np.linalg.inv(XTX)\n",
    "     w_full = XTX_inv.dot(X.T).dot(y)\n",
    "     \n",
    "     return w_full[0], w_full[1:]"
   ]
  },
  {
   "cell_type": "code",
   "execution_count": 19,
   "id": "50234c19-0db8-4cbe-9654-4f56b253b469",
   "metadata": {},
   "outputs": [],
   "source": [
    "def rmse(y, y_pred):\n",
    "    se =  (y -  y_pred) ** 2\n",
    "    mse = se.mean()\n",
    "    return np.sqrt(mse)"
   ]
  },
  {
   "cell_type": "markdown",
   "id": "eb41f559-1f26-455c-9934-c74f0b10485c",
   "metadata": {},
   "source": [
    "#### With zero:"
   ]
  },
  {
   "cell_type": "code",
   "execution_count": 20,
   "id": "71856854-5df1-45c1-a7d4-b92c4a0ff7d5",
   "metadata": {},
   "outputs": [
    {
     "data": {
      "text/plain": [
       "np.float64(0.52)"
      ]
     },
     "execution_count": 20,
     "metadata": {},
     "output_type": "execute_result"
    }
   ],
   "source": [
    "X_train = prepare_with_zero(df_train)\n",
    "w0, w = train_linear_regression(X_train, y_train)\n",
    "\n",
    "# validation part:\n",
    "X_val = prepare_with_zero(df_val)\n",
    "y_pred = w0 + X_val.dot(w)\n",
    "\n",
    "rmse_value = rmse(y_val, y_pred)\n",
    "round(rmse_value, 2)"
   ]
  },
  {
   "cell_type": "markdown",
   "id": "b3474e48-9dee-4529-a613-c68c99bbd7d2",
   "metadata": {},
   "source": [
    "#### With mean:"
   ]
  },
  {
   "cell_type": "code",
   "execution_count": 21,
   "id": "0ffdd15c-95eb-4b7e-ab99-e73996d9a20d",
   "metadata": {},
   "outputs": [
    {
     "data": {
      "text/plain": [
       "np.float64(0.46)"
      ]
     },
     "execution_count": 21,
     "metadata": {},
     "output_type": "execute_result"
    }
   ],
   "source": [
    "X_train = prepare_with_mean(df_train)\n",
    "w0, w = train_linear_regression(X_train, y_train)\n",
    "\n",
    "# validation part:\n",
    "X_val = prepare_with_mean(df_val)\n",
    "y_pred = w0 + X_val.dot(w)\n",
    "\n",
    "rmse_value = rmse(y_val, y_pred)\n",
    "round(rmse_value, 2)"
   ]
  },
  {
   "cell_type": "markdown",
   "id": "09fd9de6-7b07-4d90-a699-57130ea91c23",
   "metadata": {},
   "source": [
    "#### answer: \n",
    "with mean"
   ]
  },
  {
   "cell_type": "markdown",
   "id": "96f800ec-831f-43e9-bdc6-e1247fb766e3",
   "metadata": {},
   "source": [
    "### Question 4\n",
    "\n",
    "* Now let's train a regularized linear regression.\n",
    "* For this question, fill the NAs with 0. \n",
    "* Try different values of `r` from this list: `[0, 0.01, 0.1, 1, 5, 10, 100]`.\n",
    "* Use RMSE to evaluate the model on the validation dataset.\n",
    "* Round the RMSE scores to 2 decimal digits.\n",
    "* Which `r` gives the best RMSE?\n",
    "\n",
    "If multiple options give the same best RMSE, select the smallest `r`.\n",
    "\n",
    "Options:\n",
    "\n",
    "- 0\n",
    "- 0.01\n",
    "- 1\n",
    "- 10\n",
    "- 100"
   ]
  },
  {
   "cell_type": "code",
   "execution_count": 22,
   "id": "e1bb89a9-bae8-48b0-b9c1-2ce622244472",
   "metadata": {},
   "outputs": [],
   "source": [
    "def train_linear_regression_reg(X, y, r):\n",
    "     ones = np.ones(X.shape[0])\n",
    "     X = np.column_stack([ones, X])\n",
    "\n",
    "     XTX = X.T.dot(X)\n",
    "     XTX = XTX + r * np.eye(XTX.shape[0])\n",
    "     XTX_inv = np.linalg.inv(XTX)\n",
    "     w_full = XTX_inv.dot(X.T).dot(y)\n",
    "     \n",
    "     return w_full[0], w_full[1:]"
   ]
  },
  {
   "cell_type": "code",
   "execution_count": 23,
   "id": "67f13dd6-7802-4182-bdab-4fc23744650d",
   "metadata": {},
   "outputs": [],
   "source": [
    "r_values = [0, 0.01, 0.1, 1, 5, 10, 100]\n",
    "rmse_scores = {}"
   ]
  },
  {
   "cell_type": "code",
   "execution_count": 24,
   "id": "0af10fa9-4f9b-44cc-8695-d65cfdf65dd6",
   "metadata": {},
   "outputs": [],
   "source": [
    "X_train = prepare_with_zero(df_train)\n",
    "X_val = prepare_with_zero(df_val)"
   ]
  },
  {
   "cell_type": "code",
   "execution_count": 25,
   "id": "c5d06605-1b7f-4ac2-ae6f-c3d1e143b152",
   "metadata": {},
   "outputs": [],
   "source": [
    "for r in r_values:\n",
    "    w0, w = train_linear_regression_reg(X_train, y_train, r)\n",
    "    y_pred = w0 + X_val.dot(w)\n",
    "    rmse_value = rmse(y_val, y_pred)\n",
    "    rmse_scores[r] = round(rmse_value, 2)"
   ]
  },
  {
   "cell_type": "code",
   "execution_count": 26,
   "id": "77de4dfe-e90a-4131-a4bd-4eb8acf877a2",
   "metadata": {},
   "outputs": [
    {
     "data": {
      "text/plain": [
       "{0: np.float64(0.52),\n",
       " 0.01: np.float64(0.52),\n",
       " 0.1: np.float64(0.52),\n",
       " 1: np.float64(0.52),\n",
       " 5: np.float64(0.52),\n",
       " 10: np.float64(0.52),\n",
       " 100: np.float64(0.52)}"
      ]
     },
     "execution_count": 26,
     "metadata": {},
     "output_type": "execute_result"
    }
   ],
   "source": [
    "rmse_scores"
   ]
  },
  {
   "cell_type": "markdown",
   "id": "5b2366c1-ee97-4f74-a328-3a77f21ac8d0",
   "metadata": {},
   "source": [
    "#### answer:\n",
    "all equal, let´s choose 0"
   ]
  },
  {
   "cell_type": "markdown",
   "id": "50f6af55-86d9-43d4-9dfe-3cb318b6976d",
   "metadata": {},
   "source": [
    "### Question 5 \n",
    "\n",
    "* We used seed 42 for splitting the data. Let's find out how selecting the seed influences our score.\n",
    "* Try different seed values: `[0, 1, 2, 3, 4, 5, 6, 7, 8, 9]`.\n",
    "* For each seed, do the train/validation/test split with 60%/20%/20% distribution.\n",
    "* Fill the missing values with 0 and train a model without regularization.\n",
    "* For each seed, evaluate the model on the validation dataset and collect the RMSE scores. \n",
    "* What's the standard deviation of all the scores? To compute the standard deviation, use `np.std`.\n",
    "* Round the result to 3 decimal digits (`round(std, 3)`)\n",
    "\n",
    "What's the value of std?\n",
    "\n",
    "- 0.001\n",
    "- 0.006\n",
    "- 0.060\n",
    "- 0.600"
   ]
  },
  {
   "cell_type": "code",
   "execution_count": 27,
   "id": "19f2e230-82c3-4071-a5dc-84e4880b87b7",
   "metadata": {},
   "outputs": [],
   "source": [
    "seeds = list(range(10))\n",
    "rmse_scores = []"
   ]
  },
  {
   "cell_type": "code",
   "execution_count": 28,
   "id": "c261dda7-5492-4431-b036-f06866ece8c5",
   "metadata": {},
   "outputs": [
    {
     "name": "stdout",
     "output_type": "stream",
     "text": [
      "Standard deviation of RMSE for different seeds: 0.007\n"
     ]
    }
   ],
   "source": [
    "for seed in seeds: \n",
    "    idx = np.arange(n)\n",
    "    np.random.seed(seed)\n",
    "    np.random.shuffle(idx)\n",
    "    \n",
    "    df_train = df_subset.iloc[idx[:n_train]].copy()\n",
    "    df_val = df_subset.iloc[idx[n_train:n_train+n_val]].copy()\n",
    "    df_test = df_subset.iloc[idx[n_train+n_val:]].copy()\n",
    "    \n",
    "    y_train = df_train.fuel_efficiency_mpg.values\n",
    "    y_val = df_val.fuel_efficiency_mpg.values\n",
    "    y_test = df_test.fuel_efficiency_mpg.values\n",
    "\n",
    "    del df_train['fuel_efficiency_mpg']\n",
    "    del df_val['fuel_efficiency_mpg']\n",
    "    del df_test['fuel_efficiency_mpg']\n",
    "    \n",
    "    X_train = prepare_with_zero(df_train)\n",
    "    X_val = prepare_with_zero(df_val)\n",
    "    \n",
    "\n",
    "    w0, w = train_linear_regression(X_train, y_train)\n",
    "    \n",
    "    \n",
    "    y_pred = w0 + X_val.dot(w)\n",
    "    rmse_scores.append(rmse(y_val, y_pred))\n",
    "\n",
    "\n",
    "std_rmse = round(np.std(rmse_scores), 3)\n",
    "print(\"Standard deviation of RMSE for different seeds:\", std_rmse)"
   ]
  },
  {
   "cell_type": "markdown",
   "id": "f7755883-2c90-48e6-a68d-c9076efd0dd5",
   "metadata": {},
   "source": [
    "#### answer:\n",
    "Following the instructions: \"If your answer doesn't match the options exactly, select the closest one\": 0.006"
   ]
  },
  {
   "cell_type": "markdown",
   "id": "fa5751b5-87e7-4e65-9ab4-df85110c99a6",
   "metadata": {},
   "source": [
    "### Question 6\n",
    "\n",
    "* Split the dataset like previously, use seed 9.\n",
    "* Combine train and validation datasets.\n",
    "* Fill the missing values with 0 and train a model with `r=0.001`. \n",
    "* What's the RMSE on the test dataset?\n",
    "\n",
    "Options:\n",
    "\n",
    "- 0.15\n",
    "- 0.515\n",
    "- 5.15\n",
    "- 51.5"
   ]
  },
  {
   "cell_type": "code",
   "execution_count": 29,
   "id": "a1225d16-4557-4a5c-b767-aa3f3507b847",
   "metadata": {},
   "outputs": [],
   "source": [
    "idx = np.arange(n)\n",
    "np.random.seed(9)\n",
    "np.random.shuffle(idx)\n",
    "\n",
    "df_train = df_subset.iloc[idx[:n_train]].copy()\n",
    "df_val = df_subset.iloc[idx[n_train:n_train + n_val]].copy()\n",
    "df_test = df_subset.iloc[idx[n_train + n_val:]].copy()"
   ]
  },
  {
   "cell_type": "code",
   "execution_count": 40,
   "id": "94a31105-e7d1-4770-b5ff-05f046e04c37",
   "metadata": {},
   "outputs": [
    {
     "data": {
      "text/plain": [
       "array([10.30469994, 13.47943378, 16.19065297, ..., 13.67814034,\n",
       "       17.59323665, 16.06897494], shape=(7764,))"
      ]
     },
     "execution_count": 40,
     "metadata": {},
     "output_type": "execute_result"
    }
   ],
   "source": [
    "df_train_val = pd.concat([df_train, df_val]).reset_index(drop=True)\n",
    "\n",
    "y_train_val = df_train_val.fuel_efficiency_mpg.values\n",
    "y_test = df_test.fuel_efficiency_mpg.values\n",
    "\n",
    "del df_train_val['fuel_efficiency_mpg']\n",
    "del df_test['fuel_efficiency_mpg']\n",
    "\n",
    "y_train_val"
   ]
  },
  {
   "cell_type": "code",
   "execution_count": 32,
   "id": "9f0a31ca-933c-42c4-8bc5-37124eec84fe",
   "metadata": {},
   "outputs": [],
   "source": [
    "X_train_val = prepare_with_zero(df_train_val)\n",
    "X_test = prepare_with_zero(df_test)\n",
    "\n",
    "w0, w = train_linear_regression_reg(X_train_val, y_train_val, r=0.001)"
   ]
  },
  {
   "cell_type": "code",
   "execution_count": 33,
   "id": "4502cc86-abcc-49f0-a01f-d2beb380757a",
   "metadata": {},
   "outputs": [
    {
     "data": {
      "text/plain": [
       "np.float64(0.516)"
      ]
     },
     "execution_count": 33,
     "metadata": {},
     "output_type": "execute_result"
    }
   ],
   "source": [
    "y_pred = w0 + X_test.dot(w)\n",
    "\n",
    "\n",
    "rmse_value = rmse(y_test, y_pred)\n",
    "round(rmse_value, 3)"
   ]
  },
  {
   "cell_type": "markdown",
   "id": "7028d6b3-865a-4e0d-b144-a3dda7e37c52",
   "metadata": {},
   "source": [
    "#### answer:\n",
    "Following the instructions: \"If your answer doesn't match the options exactly, select the closest one\": 0.515"
   ]
  },
  {
   "cell_type": "code",
   "execution_count": null,
   "id": "9237ffe9-b6ec-4470-8665-031e1df1874d",
   "metadata": {},
   "outputs": [],
   "source": []
  }
 ],
 "metadata": {
  "kernelspec": {
   "display_name": "Python 3 (ipykernel)",
   "language": "python",
   "name": "python3"
  },
  "language_info": {
   "codemirror_mode": {
    "name": "ipython",
    "version": 3
   },
   "file_extension": ".py",
   "mimetype": "text/x-python",
   "name": "python",
   "nbconvert_exporter": "python",
   "pygments_lexer": "ipython3",
   "version": "3.13.7"
  }
 },
 "nbformat": 4,
 "nbformat_minor": 5
}
